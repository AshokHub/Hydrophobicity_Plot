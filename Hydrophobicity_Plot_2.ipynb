{
  "cells": [
    {
      "cell_type": "markdown",
      "metadata": {
        "id": "view-in-github",
        "colab_type": "text"
      },
      "source": [
        "<a href=\"https://colab.research.google.com/github/AshokHub/Hydrophobicity_Plot/blob/main/Hydrophobicity_Plot_2.ipynb\" target=\"_parent\"><img src=\"https://colab.research.google.com/assets/colab-badge.svg\" alt=\"Open In Colab\"/></a>"
      ]
    },
    {
      "cell_type": "markdown",
      "metadata": {
        "id": "tfvYeC9dX2GN"
      },
      "source": [
        "# Hydrophobicity Plot"
      ]
    },
    {
      "cell_type": "markdown",
      "metadata": {
        "id": "-F2tufuNX2Gd"
      },
      "source": [
        "This is a simple tutorial to generate a hydrophobicity plot of a protein sequence through [Google Colab Notebook](https://colab.research.google.com/)."
      ]
    },
    {
      "cell_type": "markdown",
      "metadata": {
        "id": "VB0_1CkOX2Ge"
      },
      "source": [
        "## Setup Platform"
      ]
    },
    {
      "cell_type": "markdown",
      "source": [
        "Importing Required Packages"
      ],
      "metadata": {
        "id": "VQgGhSHiagoC"
      }
    },
    {
      "cell_type": "code",
      "execution_count": 13,
      "metadata": {
        "id": "8Rb2QjaKX2Gi"
      },
      "outputs": [],
      "source": [
        "import matplotlib.pyplot as plt"
      ]
    },
    {
      "cell_type": "markdown",
      "metadata": {
        "id": "bXC6OlfzX2Gk"
      },
      "source": [
        "Input Protein Sequence (only sequence - not FASTA format)"
      ]
    },
    {
      "cell_type": "code",
      "execution_count": 14,
      "metadata": {
        "id": "ykCj0IHAX2Gl"
      },
      "outputs": [],
      "source": [
        "seq = \"MRKHLSWWWLATVCMLLFSHLSAVQTRGIKHRIKWNRKALPSTAQITEAQVAENRPGAFIKQGRKLDIDFGAEGNRYYEANYWQFPDGIHYNGCSEANVTKEAFVTGCINATQAANQGEFQKPDNKLHQQVLWRLVQELCSLKHCEFWLERGAGLRVTMHQPVLLCLLALIWLTVK\""
      ]
    },
    {
      "cell_type": "markdown",
      "metadata": {
        "id": "arBepTxydeCS"
      },
      "source": [
        "## Computing Hydrophobicity Plot"
      ]
    },
    {
      "cell_type": "markdown",
      "source": [
        "Kyte-Doolittle Matrix"
      ],
      "metadata": {
        "id": "hE_sXXIhc30n"
      }
    },
    {
      "cell_type": "code",
      "source": [
        "kd = { 'A': 1.8,'R':-4.5,'N':-3.5,'D':-3.5,'C': 2.5,\n",
        "       'Q':-3.5,'E':-3.5,'G':-0.4,'H':-3.2,'I': 4.5,\n",
        "       'L': 3.8,'K':-3.9,'M': 1.9,'F': 2.8,'P':-1.6,\n",
        "       'S':-0.8,'T':-0.7,'W':-0.9,'Y':-1.3,'V': 4.2 }"
      ],
      "metadata": {
        "id": "avjUr6KUdLeG"
      },
      "execution_count": 15,
      "outputs": []
    },
    {
      "cell_type": "markdown",
      "metadata": {
        "id": "QRJnoa8gX2Go"
      },
      "source": [
        "Assigning *x*, *y* axis values for 2D plot"
      ]
    },
    {
      "cell_type": "code",
      "source": [
        "n = len(seq)\n",
        "x = range(1, n+1)\n",
        "y = []\n",
        "for res in seq:\n",
        "    y.append(kd[res])"
      ],
      "metadata": {
        "id": "nCIqnS1me5Z9"
      },
      "execution_count": 16,
      "outputs": []
    },
    {
      "cell_type": "markdown",
      "metadata": {
        "id": "_Up9kG1fX2Go"
      },
      "source": [
        "Generating 2D hydrophobicity plot"
      ]
    },
    {
      "cell_type": "code",
      "execution_count": null,
      "metadata": {
        "id": "fLsaaybJX2Go"
      },
      "outputs": [],
      "source": [
        "fig = plt.figure()\n",
        "ax = fig.add_axes([0, 0, 1, 1])\n",
        "ax.plot(x, y, 'b', lw = 0.7)\n",
        "ax.set_xlim(1, n)\n",
        "ax.set(xlabel = 'Residue Number', ylabel = 'Hydrophobicity', title = 'Hydrophobicity Plot')\n",
        "ax.grid(color = 'gray', linestyle = '--', linewidth = 0.5)\n",
        "plt.show()"
      ]
    }
  ],
  "metadata": {
    "anaconda-cloud": {},
    "kernelspec": {
      "display_name": "Python 3",
      "language": "python",
      "name": "python3"
    },
    "language_info": {
      "codemirror_mode": {
        "name": "ipython",
        "version": 3
      },
      "file_extension": ".py",
      "mimetype": "text/x-python",
      "name": "python",
      "nbconvert_exporter": "python",
      "pygments_lexer": "ipython3",
      "version": "3.8.2"
    },
    "colab": {
      "provenance": [],
      "include_colab_link": true
    }
  },
  "nbformat": 4,
  "nbformat_minor": 0
}